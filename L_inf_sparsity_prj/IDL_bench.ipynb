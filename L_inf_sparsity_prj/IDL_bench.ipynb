{
  "nbformat": 4,
  "nbformat_minor": 0,
  "metadata": {
    "colab": {
      "name": "IDL_bench.ipynb",
      "provenance": []
    },
    "kernelspec": {
      "name": "python3",
      "display_name": "Python 3"
    },
    "language_info": {
      "name": "python"
    },
    "accelerator": "GPU",
    "widgets": {
      "application/vnd.jupyter.widget-state+json": {
        "52cccf7f4a9c4297ab17b3515411e259": {
          "model_module": "@jupyter-widgets/controls",
          "model_name": "HBoxModel",
          "model_module_version": "1.5.0",
          "state": {
            "_dom_classes": [],
            "_model_module": "@jupyter-widgets/controls",
            "_model_module_version": "1.5.0",
            "_model_name": "HBoxModel",
            "_view_count": null,
            "_view_module": "@jupyter-widgets/controls",
            "_view_module_version": "1.5.0",
            "_view_name": "HBoxView",
            "box_style": "",
            "children": [
              "IPY_MODEL_248ea1d92a8d48d7a518bb3c31468a7b",
              "IPY_MODEL_fb5b7a7499ad4eb59bc9bca7170e1c43",
              "IPY_MODEL_0181f542d8ee44199f1ee4b87405eab1"
            ],
            "layout": "IPY_MODEL_fade9e09eccf4903ba663f3042620603"
          }
        },
        "248ea1d92a8d48d7a518bb3c31468a7b": {
          "model_module": "@jupyter-widgets/controls",
          "model_name": "HTMLModel",
          "model_module_version": "1.5.0",
          "state": {
            "_dom_classes": [],
            "_model_module": "@jupyter-widgets/controls",
            "_model_module_version": "1.5.0",
            "_model_name": "HTMLModel",
            "_view_count": null,
            "_view_module": "@jupyter-widgets/controls",
            "_view_module_version": "1.5.0",
            "_view_name": "HTMLView",
            "description": "",
            "description_tooltip": null,
            "layout": "IPY_MODEL_cf98c1915b224032ad80b454c6a43b82",
            "placeholder": "​",
            "style": "IPY_MODEL_f49ee2f84bb5420cb1dd49b9f3b93e78",
            "value": ""
          }
        },
        "fb5b7a7499ad4eb59bc9bca7170e1c43": {
          "model_module": "@jupyter-widgets/controls",
          "model_name": "FloatProgressModel",
          "model_module_version": "1.5.0",
          "state": {
            "_dom_classes": [],
            "_model_module": "@jupyter-widgets/controls",
            "_model_module_version": "1.5.0",
            "_model_name": "FloatProgressModel",
            "_view_count": null,
            "_view_module": "@jupyter-widgets/controls",
            "_view_module_version": "1.5.0",
            "_view_name": "ProgressView",
            "bar_style": "success",
            "description": "",
            "description_tooltip": null,
            "layout": "IPY_MODEL_e3cc66c23a9d498d967fcd442371cad9",
            "max": 170498071,
            "min": 0,
            "orientation": "horizontal",
            "style": "IPY_MODEL_b5cb467d20784215af16982246279704",
            "value": 170498071
          }
        },
        "0181f542d8ee44199f1ee4b87405eab1": {
          "model_module": "@jupyter-widgets/controls",
          "model_name": "HTMLModel",
          "model_module_version": "1.5.0",
          "state": {
            "_dom_classes": [],
            "_model_module": "@jupyter-widgets/controls",
            "_model_module_version": "1.5.0",
            "_model_name": "HTMLModel",
            "_view_count": null,
            "_view_module": "@jupyter-widgets/controls",
            "_view_module_version": "1.5.0",
            "_view_name": "HTMLView",
            "description": "",
            "description_tooltip": null,
            "layout": "IPY_MODEL_04ace764c9cc4c9d84e737efcb5e4d7d",
            "placeholder": "​",
            "style": "IPY_MODEL_a74ae68c186e493d949204b3969b3b27",
            "value": " 170499072/? [00:03&lt;00:00, 56767290.19it/s]"
          }
        },
        "fade9e09eccf4903ba663f3042620603": {
          "model_module": "@jupyter-widgets/base",
          "model_name": "LayoutModel",
          "model_module_version": "1.2.0",
          "state": {
            "_model_module": "@jupyter-widgets/base",
            "_model_module_version": "1.2.0",
            "_model_name": "LayoutModel",
            "_view_count": null,
            "_view_module": "@jupyter-widgets/base",
            "_view_module_version": "1.2.0",
            "_view_name": "LayoutView",
            "align_content": null,
            "align_items": null,
            "align_self": null,
            "border": null,
            "bottom": null,
            "display": null,
            "flex": null,
            "flex_flow": null,
            "grid_area": null,
            "grid_auto_columns": null,
            "grid_auto_flow": null,
            "grid_auto_rows": null,
            "grid_column": null,
            "grid_gap": null,
            "grid_row": null,
            "grid_template_areas": null,
            "grid_template_columns": null,
            "grid_template_rows": null,
            "height": null,
            "justify_content": null,
            "justify_items": null,
            "left": null,
            "margin": null,
            "max_height": null,
            "max_width": null,
            "min_height": null,
            "min_width": null,
            "object_fit": null,
            "object_position": null,
            "order": null,
            "overflow": null,
            "overflow_x": null,
            "overflow_y": null,
            "padding": null,
            "right": null,
            "top": null,
            "visibility": null,
            "width": null
          }
        },
        "cf98c1915b224032ad80b454c6a43b82": {
          "model_module": "@jupyter-widgets/base",
          "model_name": "LayoutModel",
          "model_module_version": "1.2.0",
          "state": {
            "_model_module": "@jupyter-widgets/base",
            "_model_module_version": "1.2.0",
            "_model_name": "LayoutModel",
            "_view_count": null,
            "_view_module": "@jupyter-widgets/base",
            "_view_module_version": "1.2.0",
            "_view_name": "LayoutView",
            "align_content": null,
            "align_items": null,
            "align_self": null,
            "border": null,
            "bottom": null,
            "display": null,
            "flex": null,
            "flex_flow": null,
            "grid_area": null,
            "grid_auto_columns": null,
            "grid_auto_flow": null,
            "grid_auto_rows": null,
            "grid_column": null,
            "grid_gap": null,
            "grid_row": null,
            "grid_template_areas": null,
            "grid_template_columns": null,
            "grid_template_rows": null,
            "height": null,
            "justify_content": null,
            "justify_items": null,
            "left": null,
            "margin": null,
            "max_height": null,
            "max_width": null,
            "min_height": null,
            "min_width": null,
            "object_fit": null,
            "object_position": null,
            "order": null,
            "overflow": null,
            "overflow_x": null,
            "overflow_y": null,
            "padding": null,
            "right": null,
            "top": null,
            "visibility": null,
            "width": null
          }
        },
        "f49ee2f84bb5420cb1dd49b9f3b93e78": {
          "model_module": "@jupyter-widgets/controls",
          "model_name": "DescriptionStyleModel",
          "model_module_version": "1.5.0",
          "state": {
            "_model_module": "@jupyter-widgets/controls",
            "_model_module_version": "1.5.0",
            "_model_name": "DescriptionStyleModel",
            "_view_count": null,
            "_view_module": "@jupyter-widgets/base",
            "_view_module_version": "1.2.0",
            "_view_name": "StyleView",
            "description_width": ""
          }
        },
        "e3cc66c23a9d498d967fcd442371cad9": {
          "model_module": "@jupyter-widgets/base",
          "model_name": "LayoutModel",
          "model_module_version": "1.2.0",
          "state": {
            "_model_module": "@jupyter-widgets/base",
            "_model_module_version": "1.2.0",
            "_model_name": "LayoutModel",
            "_view_count": null,
            "_view_module": "@jupyter-widgets/base",
            "_view_module_version": "1.2.0",
            "_view_name": "LayoutView",
            "align_content": null,
            "align_items": null,
            "align_self": null,
            "border": null,
            "bottom": null,
            "display": null,
            "flex": null,
            "flex_flow": null,
            "grid_area": null,
            "grid_auto_columns": null,
            "grid_auto_flow": null,
            "grid_auto_rows": null,
            "grid_column": null,
            "grid_gap": null,
            "grid_row": null,
            "grid_template_areas": null,
            "grid_template_columns": null,
            "grid_template_rows": null,
            "height": null,
            "justify_content": null,
            "justify_items": null,
            "left": null,
            "margin": null,
            "max_height": null,
            "max_width": null,
            "min_height": null,
            "min_width": null,
            "object_fit": null,
            "object_position": null,
            "order": null,
            "overflow": null,
            "overflow_x": null,
            "overflow_y": null,
            "padding": null,
            "right": null,
            "top": null,
            "visibility": null,
            "width": null
          }
        },
        "b5cb467d20784215af16982246279704": {
          "model_module": "@jupyter-widgets/controls",
          "model_name": "ProgressStyleModel",
          "model_module_version": "1.5.0",
          "state": {
            "_model_module": "@jupyter-widgets/controls",
            "_model_module_version": "1.5.0",
            "_model_name": "ProgressStyleModel",
            "_view_count": null,
            "_view_module": "@jupyter-widgets/base",
            "_view_module_version": "1.2.0",
            "_view_name": "StyleView",
            "bar_color": null,
            "description_width": ""
          }
        },
        "04ace764c9cc4c9d84e737efcb5e4d7d": {
          "model_module": "@jupyter-widgets/base",
          "model_name": "LayoutModel",
          "model_module_version": "1.2.0",
          "state": {
            "_model_module": "@jupyter-widgets/base",
            "_model_module_version": "1.2.0",
            "_model_name": "LayoutModel",
            "_view_count": null,
            "_view_module": "@jupyter-widgets/base",
            "_view_module_version": "1.2.0",
            "_view_name": "LayoutView",
            "align_content": null,
            "align_items": null,
            "align_self": null,
            "border": null,
            "bottom": null,
            "display": null,
            "flex": null,
            "flex_flow": null,
            "grid_area": null,
            "grid_auto_columns": null,
            "grid_auto_flow": null,
            "grid_auto_rows": null,
            "grid_column": null,
            "grid_gap": null,
            "grid_row": null,
            "grid_template_areas": null,
            "grid_template_columns": null,
            "grid_template_rows": null,
            "height": null,
            "justify_content": null,
            "justify_items": null,
            "left": null,
            "margin": null,
            "max_height": null,
            "max_width": null,
            "min_height": null,
            "min_width": null,
            "object_fit": null,
            "object_position": null,
            "order": null,
            "overflow": null,
            "overflow_x": null,
            "overflow_y": null,
            "padding": null,
            "right": null,
            "top": null,
            "visibility": null,
            "width": null
          }
        },
        "a74ae68c186e493d949204b3969b3b27": {
          "model_module": "@jupyter-widgets/controls",
          "model_name": "DescriptionStyleModel",
          "model_module_version": "1.5.0",
          "state": {
            "_model_module": "@jupyter-widgets/controls",
            "_model_module_version": "1.5.0",
            "_model_name": "DescriptionStyleModel",
            "_view_count": null,
            "_view_module": "@jupyter-widgets/base",
            "_view_module_version": "1.2.0",
            "_view_name": "StyleView",
            "description_width": ""
          }
        }
      }
    }
  },
  "cells": [
    {
      "cell_type": "code",
      "execution_count": 1,
      "metadata": {
        "colab": {
          "base_uri": "https://localhost:8080/"
        },
        "id": "3BGqIoaPbGsN",
        "outputId": "f087e914-647c-49a3-efd3-d6329fe6e16d"
      },
      "outputs": [
        {
          "output_type": "stream",
          "name": "stdout",
          "text": [
            "Collecting git+https://github.com/RobustBench/robustbench.git\n",
            "  Cloning https://github.com/RobustBench/robustbench.git to /tmp/pip-req-build-79ejoj4e\n",
            "  Running command git clone -q https://github.com/RobustBench/robustbench.git /tmp/pip-req-build-79ejoj4e\n",
            "Collecting autoattack@ git+https://github.com/fra31/auto-attack.git@6482e4d6fbeeb51ae9585c41b16d50d14576aadc#egg=autoattack\n",
            "  Cloning https://github.com/fra31/auto-attack.git (to revision 6482e4d6fbeeb51ae9585c41b16d50d14576aadc) to /tmp/pip-install-51lbuxz5/autoattack_0b10b0fe4faf43f28e88204a6686a24a\n",
            "  Running command git clone -q https://github.com/fra31/auto-attack.git /tmp/pip-install-51lbuxz5/autoattack_0b10b0fe4faf43f28e88204a6686a24a\n",
            "  Running command git rev-parse -q --verify 'sha^6482e4d6fbeeb51ae9585c41b16d50d14576aadc'\n",
            "  Running command git fetch -q https://github.com/fra31/auto-attack.git 6482e4d6fbeeb51ae9585c41b16d50d14576aadc\n",
            "  Running command git checkout -q 6482e4d6fbeeb51ae9585c41b16d50d14576aadc\n",
            "Requirement already satisfied: torch>=1.7.1 in /usr/local/lib/python3.7/dist-packages (from robustbench==1.0) (1.10.0+cu111)\n",
            "Requirement already satisfied: torchvision>=0.8.2 in /usr/local/lib/python3.7/dist-packages (from robustbench==1.0) (0.11.1+cu111)\n",
            "Collecting torchdiffeq\n",
            "  Downloading torchdiffeq-0.2.2-py3-none-any.whl (31 kB)\n",
            "Collecting geotorch\n",
            "  Downloading geotorch-0.3.0-py3-none-any.whl (54 kB)\n",
            "\u001b[K     |████████████████████████████████| 54 kB 2.4 MB/s \n",
            "\u001b[?25hCollecting requests~=2.25.0\n",
            "  Downloading requests-2.25.1-py2.py3-none-any.whl (61 kB)\n",
            "\u001b[K     |████████████████████████████████| 61 kB 6.3 MB/s \n",
            "\u001b[?25hRequirement already satisfied: numpy>=1.19.4 in /usr/local/lib/python3.7/dist-packages (from robustbench==1.0) (1.21.5)\n",
            "Requirement already satisfied: Jinja2~=2.11.2 in /usr/local/lib/python3.7/dist-packages (from robustbench==1.0) (2.11.3)\n",
            "Collecting tqdm~=4.56.1\n",
            "  Downloading tqdm-4.56.2-py2.py3-none-any.whl (72 kB)\n",
            "\u001b[K     |████████████████████████████████| 72 kB 1.1 MB/s \n",
            "\u001b[?25hCollecting pandas~=1.2.0\n",
            "  Downloading pandas-1.2.5-cp37-cp37m-manylinux_2_5_x86_64.manylinux1_x86_64.whl (9.9 MB)\n",
            "\u001b[K     |████████████████████████████████| 9.9 MB 44.8 MB/s \n",
            "\u001b[?25hRequirement already satisfied: MarkupSafe>=0.23 in /usr/local/lib/python3.7/dist-packages (from Jinja2~=2.11.2->robustbench==1.0) (2.0.1)\n",
            "Requirement already satisfied: python-dateutil>=2.7.3 in /usr/local/lib/python3.7/dist-packages (from pandas~=1.2.0->robustbench==1.0) (2.8.2)\n",
            "Requirement already satisfied: pytz>=2017.3 in /usr/local/lib/python3.7/dist-packages (from pandas~=1.2.0->robustbench==1.0) (2018.9)\n",
            "Requirement already satisfied: six>=1.5 in /usr/local/lib/python3.7/dist-packages (from python-dateutil>=2.7.3->pandas~=1.2.0->robustbench==1.0) (1.15.0)\n",
            "Requirement already satisfied: urllib3<1.27,>=1.21.1 in /usr/local/lib/python3.7/dist-packages (from requests~=2.25.0->robustbench==1.0) (1.24.3)\n",
            "Requirement already satisfied: chardet<5,>=3.0.2 in /usr/local/lib/python3.7/dist-packages (from requests~=2.25.0->robustbench==1.0) (3.0.4)\n",
            "Requirement already satisfied: certifi>=2017.4.17 in /usr/local/lib/python3.7/dist-packages (from requests~=2.25.0->robustbench==1.0) (2021.10.8)\n",
            "Requirement already satisfied: idna<3,>=2.5 in /usr/local/lib/python3.7/dist-packages (from requests~=2.25.0->robustbench==1.0) (2.10)\n",
            "Requirement already satisfied: typing-extensions in /usr/local/lib/python3.7/dist-packages (from torch>=1.7.1->robustbench==1.0) (3.10.0.2)\n",
            "Requirement already satisfied: pillow!=8.3.0,>=5.3.0 in /usr/local/lib/python3.7/dist-packages (from torchvision>=0.8.2->robustbench==1.0) (7.1.2)\n",
            "Requirement already satisfied: scipy>=1.4.0 in /usr/local/lib/python3.7/dist-packages (from torchdiffeq->robustbench==1.0) (1.4.1)\n",
            "Building wheels for collected packages: robustbench, autoattack\n",
            "  Building wheel for robustbench (setup.py) ... \u001b[?25l\u001b[?25hdone\n",
            "  Created wheel for robustbench: filename=robustbench-1.0-py3-none-any.whl size=121539 sha256=9800a0f7d98064899199696122634def5f6f775b3db84e74c7453848921d6004\n",
            "  Stored in directory: /tmp/pip-ephem-wheel-cache-wvnjh1cx/wheels/bf/d3/0d/216e90b5151b11413c86f5da21ab1b86b84546d23c3605c4ce\n",
            "  Building wheel for autoattack (setup.py) ... \u001b[?25l\u001b[?25hdone\n",
            "  Created wheel for autoattack: filename=autoattack-0.1-py3-none-any.whl size=34442 sha256=154c3c8569816d04436559aa41d74ad2e4478b33f33c4902b161fd42392dc020\n",
            "  Stored in directory: /root/.cache/pip/wheels/92/bd/bc/31837d8ae591efceb0802097437064768ea1fba2e8f02a2d0c\n",
            "Successfully built robustbench autoattack\n",
            "Installing collected packages: tqdm, torchdiffeq, requests, pandas, geotorch, autoattack, robustbench\n",
            "  Attempting uninstall: tqdm\n",
            "    Found existing installation: tqdm 4.63.0\n",
            "    Uninstalling tqdm-4.63.0:\n",
            "      Successfully uninstalled tqdm-4.63.0\n",
            "  Attempting uninstall: requests\n",
            "    Found existing installation: requests 2.23.0\n",
            "    Uninstalling requests-2.23.0:\n",
            "      Successfully uninstalled requests-2.23.0\n",
            "  Attempting uninstall: pandas\n",
            "    Found existing installation: pandas 1.3.5\n",
            "    Uninstalling pandas-1.3.5:\n",
            "      Successfully uninstalled pandas-1.3.5\n",
            "\u001b[31mERROR: pip's dependency resolver does not currently take into account all the packages that are installed. This behaviour is the source of the following dependency conflicts.\n",
            "google-colab 1.0.0 requires requests~=2.23.0, but you have requests 2.25.1 which is incompatible.\n",
            "datascience 0.10.6 requires folium==0.2.1, but you have folium 0.8.3 which is incompatible.\u001b[0m\n",
            "Successfully installed autoattack-0.1 geotorch-0.3.0 pandas-1.2.5 requests-2.25.1 robustbench-1.0 torchdiffeq-0.2.2 tqdm-4.56.2\n"
          ]
        }
      ],
      "source": [
        "!pip install git+https://github.com/RobustBench/robustbench.git"
      ]
    },
    {
      "cell_type": "markdown",
      "source": [
        "18) WideResNet-70-16/ [Rebuffi et al., 2021], extra data"
      ],
      "metadata": {
        "id": "zg0i34t4sy6m"
      }
    },
    {
      "cell_type": "code",
      "source": [
        "from robustbench.data import load_cifar10\n",
        "\n",
        "x_test, y_test = load_cifar10(n_examples=50)\n",
        "\n",
        "from robustbench.utils import load_model\n",
        "\n",
        "model = load_model(model_name='Rebuffi2021Fixing_70_16_cutmix_extra', dataset='cifar10', threat_model='Linf')"
      ],
      "metadata": {
        "colab": {
          "base_uri": "https://localhost:8080/",
          "height": 120,
          "referenced_widgets": [
            "52cccf7f4a9c4297ab17b3515411e259",
            "248ea1d92a8d48d7a518bb3c31468a7b",
            "fb5b7a7499ad4eb59bc9bca7170e1c43",
            "0181f542d8ee44199f1ee4b87405eab1",
            "fade9e09eccf4903ba663f3042620603",
            "cf98c1915b224032ad80b454c6a43b82",
            "f49ee2f84bb5420cb1dd49b9f3b93e78",
            "e3cc66c23a9d498d967fcd442371cad9",
            "b5cb467d20784215af16982246279704",
            "04ace764c9cc4c9d84e737efcb5e4d7d",
            "a74ae68c186e493d949204b3969b3b27"
          ]
        },
        "id": "j0dhrAS6sx53",
        "outputId": "b61fb9c7-cc65-48a1-c51e-e2f1b4d5fcf2"
      },
      "execution_count": 2,
      "outputs": [
        {
          "output_type": "stream",
          "name": "stdout",
          "text": [
            "Downloading https://www.cs.toronto.edu/~kriz/cifar-10-python.tar.gz to ./data/cifar-10-python.tar.gz\n"
          ]
        },
        {
          "output_type": "display_data",
          "data": {
            "text/plain": [
              "  0%|          | 0/170498071 [00:00<?, ?it/s]"
            ],
            "application/vnd.jupyter.widget-view+json": {
              "version_major": 2,
              "version_minor": 0,
              "model_id": "52cccf7f4a9c4297ab17b3515411e259"
            }
          },
          "metadata": {}
        },
        {
          "output_type": "stream",
          "name": "stdout",
          "text": [
            "Extracting ./data/cifar-10-python.tar.gz to ./data\n",
            "Download started: path=models/cifar10/Linf/Rebuffi2021Fixing_70_16_cutmix_extra.pt (gdrive_id=1qKDTp6IJ1BUXZaRtbYuo_t0tuDl_4mLg)\n",
            "Download finished: path=models/cifar10/Linf/Rebuffi2021Fixing_70_16_cutmix_extra.pt (gdrive_id=1qKDTp6IJ1BUXZaRtbYuo_t0tuDl_4mLg)\n"
          ]
        }
      ]
    },
    {
      "cell_type": "code",
      "source": [
        "!pip install -q foolbox\n",
        "import foolbox as fb\n",
        "fmodel = fb.PyTorchModel(model, bounds=(0, 1))\n",
        "\n",
        "_, advs, success = fb.attacks.LinfPGD()(fmodel, x_test.to('cuda:0'), y_test.to('cuda:0'), epsilons=[8/255])\n",
        "print('Robust accuracy: {:.1%}'.format(1 - success.float().mean()))"
      ],
      "metadata": {
        "colab": {
          "base_uri": "https://localhost:8080/"
        },
        "id": "VmbQmQ4Gsxuy",
        "outputId": "ca385121-b80e-4285-d398-a14d32d962a3"
      },
      "execution_count": 5,
      "outputs": [
        {
          "output_type": "stream",
          "name": "stdout",
          "text": [
            "\u001b[K     |████████████████████████████████| 1.7 MB 5.4 MB/s \n",
            "\u001b[K     |████████████████████████████████| 181 kB 41.7 MB/s \n",
            "\u001b[K     |████████████████████████████████| 63 kB 1.6 MB/s \n",
            "\u001b[?25hRobust accuracy: 76.0%\n"
          ]
        }
      ]
    },
    {
      "cell_type": "code",
      "source": [
        "print(type(model))\n",
        "#model = load_model(model_name='Rebuffi2021Fixing_70_16_cutmix_extra', dataset='cifar10', threat_model='Linf')\n",
        "print(type(adversary))"
      ],
      "metadata": {
        "colab": {
          "base_uri": "https://localhost:8080/"
        },
        "id": "IkqBCl5RdeuW",
        "outputId": "f2fb95cf-0a5c-4c26-c761-30d630896fe7"
      },
      "execution_count": 8,
      "outputs": [
        {
          "output_type": "stream",
          "name": "stdout",
          "text": [
            "<class 'robustbench.model_zoo.architectures.dm_wide_resnet.DMWideResNet'>\n",
            "<class 'autoattack.autoattack.AutoAttack'>\n"
          ]
        }
      ]
    },
    {
      "cell_type": "code",
      "source": [
        "# autoattack is installed as a dependency of robustbench so there is not need to install it separately\n",
        "from autoattack import AutoAttack\n",
        "adversary = AutoAttack(model, norm='Linf', eps=8/255, version='custom', attacks_to_run=['apgd-ce', 'apgd-dlr'])\n",
        "adversary.apgd.n_restarts = 1\n",
        "x_adv = adversary.run_standard_evaluation(x_test, y_test)"
      ],
      "metadata": {
        "colab": {
          "base_uri": "https://localhost:8080/"
        },
        "id": "oLq6VHzBsxir",
        "outputId": "9c252384-a5ca-4ff5-8eab-90b9026b0942"
      },
      "execution_count": null,
      "outputs": [
        {
          "output_type": "stream",
          "name": "stdout",
          "text": [
            "using custom version including apgd-ce, apgd-dlr\n",
            "initial accuracy: 96.00%\n",
            "apgd-ce - 1/1 - 17 out of 48 successfully perturbed\n",
            "robust accuracy after APGD-CE: 62.00% (total time 456.7 s)\n"
          ]
        }
      ]
    },
    {
      "cell_type": "markdown",
      "source": [
        "19) WideResNet-70-16/ [Gowal et al., 2020], extra data"
      ],
      "metadata": {
        "id": "YRqCrpnBwOrp"
      }
    },
    {
      "cell_type": "code",
      "source": [
        "from robustbench.data import load_cifar10\n",
        "\n",
        "x_test, y_test = load_cifar10(n_examples=50)\n",
        "\n",
        "from robustbench.utils import load_model\n",
        "\n",
        "model = load_model(model_name='Gowal2020Uncovering_70_16_extra', dataset='cifar10', threat_model='Linf')"
      ],
      "metadata": {
        "id": "eq2pbDkWwOcz"
      },
      "execution_count": null,
      "outputs": []
    },
    {
      "cell_type": "code",
      "source": [
        "# !pip install -q foolbox\n",
        "# import foolbox as fb\n",
        "# fmodel = fb.PyTorchModel(model, bounds=(0, 1))\n",
        "\n",
        "# _, advs, success = fb.attacks.LinfPGD()(fmodel, x_test.to('cuda:0'), y_test.to('cuda:0'), epsilons=[8/255])\n",
        "# print('Robust accuracy: {:.1%}'.format(1 - success.float().mean()))"
      ],
      "metadata": {
        "id": "eXYFAiJwwOTd"
      },
      "execution_count": null,
      "outputs": []
    },
    {
      "cell_type": "code",
      "source": [
        "# autoattack is installed as a dependency of robustbench so there is not need to install it separately\n",
        "from autoattack import AutoAttack\n",
        "adversary = AutoAttack(model, norm='Linf', eps=8/255, version='custom', attacks_to_run=['apgd-ce', 'apgd-dlr'])\n",
        "adversary.apgd.n_restarts = 1\n",
        "x_adv = adversary.run_standard_evaluation(x_test, y_test)"
      ],
      "metadata": {
        "id": "OGONb8QiwZ5Q"
      },
      "execution_count": null,
      "outputs": []
    },
    {
      "cell_type": "markdown",
      "source": [
        "20) WideResNet-70-16/ [Rebuffi et al., 2021]/\n"
      ],
      "metadata": {
        "id": "RJ8ASrMsxpbd"
      }
    },
    {
      "cell_type": "code",
      "source": [
        "from robustbench.data import load_cifar10\n",
        "\n",
        "x_test, y_test = load_cifar10(n_examples=50)\n",
        "\n",
        "from robustbench.utils import load_model\n",
        "\n",
        "model = load_model(model_name='Rebuffi2021Fixing_70_16_cutmix_ddpm', dataset='cifar10', threat_model='Linf')"
      ],
      "metadata": {
        "id": "cwn-MLLCxqcs"
      },
      "execution_count": null,
      "outputs": []
    },
    {
      "cell_type": "code",
      "source": [
        "# !pip install -q foolbox\n",
        "# import foolbox as fb\n",
        "# fmodel = fb.PyTorchModel(model, bounds=(0, 1))\n",
        "\n",
        "# _, advs, success = fb.attacks.LinfPGD()(fmodel, x_test.to('cuda:0'), y_test.to('cuda:0'), epsilons=[8/255])\n",
        "# print('Robust accuracy: {:.1%}'.format(1 - success.float().mean()))"
      ],
      "metadata": {
        "id": "OfuHup1qxrCz"
      },
      "execution_count": null,
      "outputs": []
    },
    {
      "cell_type": "code",
      "source": [
        "# autoattack is installed as a dependency of robustbench so there is not need to install it separately\n",
        "from autoattack import AutoAttack\n",
        "adversary = AutoAttack(model, norm='Linf', eps=8/255, version='custom', attacks_to_run=['apgd-ce', 'apgd-dlr'])\n",
        "adversary.apgd.n_restarts = 1\n",
        "x_adv = adversary.run_standard_evaluation(x_test, y_test)"
      ],
      "metadata": {
        "id": "a8IUgQz6zj8P"
      },
      "execution_count": null,
      "outputs": []
    },
    {
      "cell_type": "markdown",
      "source": [
        "21) WideResNet-28-10/ [Rebuffi et al., 2021]"
      ],
      "metadata": {
        "id": "ojUQrHeD0cpi"
      }
    },
    {
      "cell_type": "code",
      "source": [
        "from robustbench.data import load_cifar10\n",
        "\n",
        "x_test, y_test = load_cifar10(n_examples=50)\n",
        "\n",
        "from robustbench.utils import load_model\n",
        "\n",
        "model = load_model(model_name='Rebuffi2021Fixing_28_10_cutmix_ddpm', dataset='cifar10', threat_model='Linf')"
      ],
      "metadata": {
        "id": "dB1nR4D00qnr"
      },
      "execution_count": null,
      "outputs": []
    },
    {
      "cell_type": "code",
      "source": [
        "# !pip install -q foolbox\n",
        "# import foolbox as fb\n",
        "# fmodel = fb.PyTorchModel(model, bounds=(0, 1))\n",
        "\n",
        "# _, advs, success = fb.attacks.LinfPGD()(fmodel, x_test.to('cuda:0'), y_test.to('cuda:0'), epsilons=[8/255])\n",
        "# print('Robust accuracy: {:.1%}'.format(1 - success.float().mean()))"
      ],
      "metadata": {
        "id": "vA5L80Jq0qLK"
      },
      "execution_count": null,
      "outputs": []
    },
    {
      "cell_type": "code",
      "source": [
        "# autoattack is installed as a dependency of robustbench so there is not need to install it separately\n",
        "from autoattack import AutoAttack\n",
        "adversary = AutoAttack(model, norm='Linf', eps=8/255, version='custom', attacks_to_run=['apgd-ce', 'apgd-dlr'])\n",
        "adversary.apgd.n_restarts = 1\n",
        "x_adv = adversary.run_standard_evaluation(x_test, y_test)"
      ],
      "metadata": {
        "id": "3CL-ihuq0qBt"
      },
      "execution_count": null,
      "outputs": []
    },
    {
      "cell_type": "markdown",
      "source": [
        "이하 무시"
      ],
      "metadata": {
        "id": "XE4jK05FwXp8"
      }
    }
  ]
}